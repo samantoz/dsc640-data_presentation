{
 "cells": [
  {
   "cell_type": "markdown",
   "source": [
    "1 Tree map, 1 Area chart and 1 stacked area chart using python"
   ],
   "metadata": {}
  },
  {
   "cell_type": "code",
   "execution_count": 1,
   "source": [
    "import os\r\n",
    "import pandas as pd\r\n",
    "import matplotlib.pyplot as plt"
   ],
   "outputs": [],
   "metadata": {}
  },
  {
   "cell_type": "code",
   "execution_count": 2,
   "source": [
    "data_path = ('C:\\\\Users\\\\saman\\\\git_repos\\\\dsc640-data_presentation\\\\data\\\\ex3.2')\r\n",
    "exp_file = f\"{data_path}\\expenditures.txt\"\r\n",
    "df_expn = pd.read_csv(exp_file,sep='\\t',header=0)\r\n",
    "df_expn"
   ],
   "outputs": [
    {
     "output_type": "execute_result",
     "data": {
      "text/html": [
       "<div>\n",
       "<style scoped>\n",
       "    .dataframe tbody tr th:only-of-type {\n",
       "        vertical-align: middle;\n",
       "    }\n",
       "\n",
       "    .dataframe tbody tr th {\n",
       "        vertical-align: top;\n",
       "    }\n",
       "\n",
       "    .dataframe thead th {\n",
       "        text-align: right;\n",
       "    }\n",
       "</style>\n",
       "<table border=\"1\" class=\"dataframe\">\n",
       "  <thead>\n",
       "    <tr style=\"text-align: right;\">\n",
       "      <th></th>\n",
       "      <th>year</th>\n",
       "      <th>category</th>\n",
       "      <th>expenditure</th>\n",
       "      <th>sex</th>\n",
       "    </tr>\n",
       "  </thead>\n",
       "  <tbody>\n",
       "    <tr>\n",
       "      <th>0</th>\n",
       "      <td>2008</td>\n",
       "      <td>Food</td>\n",
       "      <td>6443</td>\n",
       "      <td>1</td>\n",
       "    </tr>\n",
       "    <tr>\n",
       "      <th>1</th>\n",
       "      <td>2008</td>\n",
       "      <td>Alcoholic Beverages</td>\n",
       "      <td>444</td>\n",
       "      <td>1</td>\n",
       "    </tr>\n",
       "    <tr>\n",
       "      <th>2</th>\n",
       "      <td>2008</td>\n",
       "      <td>Housing</td>\n",
       "      <td>17109</td>\n",
       "      <td>1</td>\n",
       "    </tr>\n",
       "    <tr>\n",
       "      <th>3</th>\n",
       "      <td>2008</td>\n",
       "      <td>Apparel</td>\n",
       "      <td>1801</td>\n",
       "      <td>1</td>\n",
       "    </tr>\n",
       "    <tr>\n",
       "      <th>4</th>\n",
       "      <td>2008</td>\n",
       "      <td>Transportation</td>\n",
       "      <td>8604</td>\n",
       "      <td>1</td>\n",
       "    </tr>\n",
       "    <tr>\n",
       "      <th>...</th>\n",
       "      <td>...</td>\n",
       "      <td>...</td>\n",
       "      <td>...</td>\n",
       "      <td>...</td>\n",
       "    </tr>\n",
       "    <tr>\n",
       "      <th>345</th>\n",
       "      <td>1984</td>\n",
       "      <td>Education</td>\n",
       "      <td>303</td>\n",
       "      <td>1</td>\n",
       "    </tr>\n",
       "    <tr>\n",
       "      <th>346</th>\n",
       "      <td>1984</td>\n",
       "      <td>Tobacco Products</td>\n",
       "      <td>228</td>\n",
       "      <td>1</td>\n",
       "    </tr>\n",
       "    <tr>\n",
       "      <th>347</th>\n",
       "      <td>1984</td>\n",
       "      <td>Miscellaneous</td>\n",
       "      <td>451</td>\n",
       "      <td>1</td>\n",
       "    </tr>\n",
       "    <tr>\n",
       "      <th>348</th>\n",
       "      <td>1984</td>\n",
       "      <td>Cash Contributions</td>\n",
       "      <td>706</td>\n",
       "      <td>1</td>\n",
       "    </tr>\n",
       "    <tr>\n",
       "      <th>349</th>\n",
       "      <td>1984</td>\n",
       "      <td>Personal Insurance</td>\n",
       "      <td>1897</td>\n",
       "      <td>1</td>\n",
       "    </tr>\n",
       "  </tbody>\n",
       "</table>\n",
       "<p>350 rows × 4 columns</p>\n",
       "</div>"
      ],
      "text/plain": [
       "     year             category  expenditure  sex\n",
       "0    2008                 Food         6443    1\n",
       "1    2008  Alcoholic Beverages          444    1\n",
       "2    2008              Housing        17109    1\n",
       "3    2008              Apparel         1801    1\n",
       "4    2008       Transportation         8604    1\n",
       "..    ...                  ...          ...  ...\n",
       "345  1984            Education          303    1\n",
       "346  1984     Tobacco Products          228    1\n",
       "347  1984        Miscellaneous          451    1\n",
       "348  1984   Cash Contributions          706    1\n",
       "349  1984   Personal Insurance         1897    1\n",
       "\n",
       "[350 rows x 4 columns]"
      ]
     },
     "metadata": {},
     "execution_count": 2
    }
   ],
   "metadata": {}
  },
  {
   "cell_type": "code",
   "execution_count": 3,
   "source": [
    "data_path = \"C:\\\\Users\\\\saman\\\\git_repos\\\\dsc640-data_presentation\\\\data\\\\ex3.2\"\r\n",
    "exp_file = f\"{data_path}\\\\unemployement-rate-1948-2010.csv\"\r\n",
    "# print(exp_file)\r\n",
    "df_unemp = pd.read_csv(exp_file,sep=',',header=0)\r\n",
    "df_unemp"
   ],
   "outputs": [
    {
     "output_type": "execute_result",
     "data": {
      "text/html": [
       "<div>\n",
       "<style scoped>\n",
       "    .dataframe tbody tr th:only-of-type {\n",
       "        vertical-align: middle;\n",
       "    }\n",
       "\n",
       "    .dataframe tbody tr th {\n",
       "        vertical-align: top;\n",
       "    }\n",
       "\n",
       "    .dataframe thead th {\n",
       "        text-align: right;\n",
       "    }\n",
       "</style>\n",
       "<table border=\"1\" class=\"dataframe\">\n",
       "  <thead>\n",
       "    <tr style=\"text-align: right;\">\n",
       "      <th></th>\n",
       "      <th>Series id</th>\n",
       "      <th>Year</th>\n",
       "      <th>Period</th>\n",
       "      <th>Value</th>\n",
       "    </tr>\n",
       "  </thead>\n",
       "  <tbody>\n",
       "    <tr>\n",
       "      <th>0</th>\n",
       "      <td>LNS14000000</td>\n",
       "      <td>1948</td>\n",
       "      <td>M01</td>\n",
       "      <td>3.4</td>\n",
       "    </tr>\n",
       "    <tr>\n",
       "      <th>1</th>\n",
       "      <td>LNS14000000</td>\n",
       "      <td>1948</td>\n",
       "      <td>M02</td>\n",
       "      <td>3.8</td>\n",
       "    </tr>\n",
       "    <tr>\n",
       "      <th>2</th>\n",
       "      <td>LNS14000000</td>\n",
       "      <td>1948</td>\n",
       "      <td>M03</td>\n",
       "      <td>4.0</td>\n",
       "    </tr>\n",
       "    <tr>\n",
       "      <th>3</th>\n",
       "      <td>LNS14000000</td>\n",
       "      <td>1948</td>\n",
       "      <td>M04</td>\n",
       "      <td>3.9</td>\n",
       "    </tr>\n",
       "    <tr>\n",
       "      <th>4</th>\n",
       "      <td>LNS14000000</td>\n",
       "      <td>1948</td>\n",
       "      <td>M05</td>\n",
       "      <td>3.5</td>\n",
       "    </tr>\n",
       "    <tr>\n",
       "      <th>...</th>\n",
       "      <td>...</td>\n",
       "      <td>...</td>\n",
       "      <td>...</td>\n",
       "      <td>...</td>\n",
       "    </tr>\n",
       "    <tr>\n",
       "      <th>741</th>\n",
       "      <td>LNS14000000</td>\n",
       "      <td>2009</td>\n",
       "      <td>M10</td>\n",
       "      <td>10.1</td>\n",
       "    </tr>\n",
       "    <tr>\n",
       "      <th>742</th>\n",
       "      <td>LNS14000000</td>\n",
       "      <td>2009</td>\n",
       "      <td>M11</td>\n",
       "      <td>10.0</td>\n",
       "    </tr>\n",
       "    <tr>\n",
       "      <th>743</th>\n",
       "      <td>LNS14000000</td>\n",
       "      <td>2009</td>\n",
       "      <td>M12</td>\n",
       "      <td>10.0</td>\n",
       "    </tr>\n",
       "    <tr>\n",
       "      <th>744</th>\n",
       "      <td>LNS14000000</td>\n",
       "      <td>2010</td>\n",
       "      <td>M01</td>\n",
       "      <td>9.7</td>\n",
       "    </tr>\n",
       "    <tr>\n",
       "      <th>745</th>\n",
       "      <td>LNS14000000</td>\n",
       "      <td>2010</td>\n",
       "      <td>M02</td>\n",
       "      <td>9.7</td>\n",
       "    </tr>\n",
       "  </tbody>\n",
       "</table>\n",
       "<p>746 rows × 4 columns</p>\n",
       "</div>"
      ],
      "text/plain": [
       "       Series id  Year Period  Value\n",
       "0    LNS14000000  1948    M01    3.4\n",
       "1    LNS14000000  1948    M02    3.8\n",
       "2    LNS14000000  1948    M03    4.0\n",
       "3    LNS14000000  1948    M04    3.9\n",
       "4    LNS14000000  1948    M05    3.5\n",
       "..           ...   ...    ...    ...\n",
       "741  LNS14000000  2009    M10   10.1\n",
       "742  LNS14000000  2009    M11   10.0\n",
       "743  LNS14000000  2009    M12   10.0\n",
       "744  LNS14000000  2010    M01    9.7\n",
       "745  LNS14000000  2010    M02    9.7\n",
       "\n",
       "[746 rows x 4 columns]"
      ]
     },
     "metadata": {},
     "execution_count": 3
    }
   ],
   "metadata": {}
  },
  {
   "cell_type": "code",
   "execution_count": 10,
   "source": [
    "df_unemp[df_unemp['Year']==2010]\r\n"
   ],
   "outputs": [
    {
     "output_type": "execute_result",
     "data": {
      "text/html": [
       "<div>\n",
       "<style scoped>\n",
       "    .dataframe tbody tr th:only-of-type {\n",
       "        vertical-align: middle;\n",
       "    }\n",
       "\n",
       "    .dataframe tbody tr th {\n",
       "        vertical-align: top;\n",
       "    }\n",
       "\n",
       "    .dataframe thead th {\n",
       "        text-align: right;\n",
       "    }\n",
       "</style>\n",
       "<table border=\"1\" class=\"dataframe\">\n",
       "  <thead>\n",
       "    <tr style=\"text-align: right;\">\n",
       "      <th></th>\n",
       "      <th>Series id</th>\n",
       "      <th>Year</th>\n",
       "      <th>Period</th>\n",
       "      <th>Value</th>\n",
       "    </tr>\n",
       "  </thead>\n",
       "  <tbody>\n",
       "    <tr>\n",
       "      <th>744</th>\n",
       "      <td>LNS14000000</td>\n",
       "      <td>2010</td>\n",
       "      <td>M01</td>\n",
       "      <td>9.7</td>\n",
       "    </tr>\n",
       "    <tr>\n",
       "      <th>745</th>\n",
       "      <td>LNS14000000</td>\n",
       "      <td>2010</td>\n",
       "      <td>M02</td>\n",
       "      <td>9.7</td>\n",
       "    </tr>\n",
       "  </tbody>\n",
       "</table>\n",
       "</div>"
      ],
      "text/plain": [
       "       Series id  Year Period  Value\n",
       "744  LNS14000000  2010    M01    9.7\n",
       "745  LNS14000000  2010    M02    9.7"
      ]
     },
     "metadata": {},
     "execution_count": 10
    }
   ],
   "metadata": {}
  },
  {
   "cell_type": "code",
   "execution_count": 19,
   "source": [
    "# Area Chart\r\n",
    "\r\n",
    "plt.figure(figsize=(15, 9))\r\n",
    "plt.stackplot(df_unemp['Year'], df_unemp['Value'])\r\n",
    "plt.title(\"Area Chart showing the Unemployment rate by Year\")\r\n",
    "plt.ylabel(\"Unemployment Rate\")\r\n",
    "plt.xlabel(\"Year\")"
   ],
   "outputs": [
    {
     "output_type": "execute_result",
     "data": {
      "text/plain": [
       "Text(0.5, 0, 'Year')"
      ]
     },
     "metadata": {},
     "execution_count": 19
    },
    {
     "output_type": "display_data",
     "data": {
      "image/png": "[encoded data removed]",
      "text/plain": [
       "<Figure size 1080x648 with 1 Axes>"
      ]
     },
     "metadata": {
      "needs_background": "light"
     }
    }
   ],
   "metadata": {}
  },
  {
   "cell_type": "code",
   "execution_count": 40,
   "source": [
    "plt.scatter(food_expense['year'],food_expense['expenditure'])\r\n"
   ],
   "outputs": [
    {
     "output_type": "execute_result",
     "data": {
      "text/plain": [
       "<matplotlib.collections.PathCollection at 0x1e99c484ca0>"
      ]
     },
     "metadata": {},
     "execution_count": 40
    },
    {
     "output_type": "display_data",
     "data": {
      "image/png": "[encoded data removed]",
      "text/plain": [
       "<Figure size 432x288 with 1 Axes>"
      ]
     },
     "metadata": {
      "needs_background": "light"
     }
    }
   ],
   "metadata": {}
  },
  {
   "cell_type": "code",
   "execution_count": 36,
   "source": [
    "# Stacked Area Chart\r\n",
    "food_expense = df_expn[df_expn['category'] == 'Food']\r\n",
    "housing_expense = df_expn[df_expn['category'] == 'Housing']\r\n",
    "education_expense = df_expn[df_expn['category'] == 'Education']\r\n",
    "\r\n",
    "plt.figure(figsize=(15, 9))\r\n",
    "plt.stackplot(food_expense['year'], food_expense['expenditure'],housing_expense['expenditure'],education_expense['expenditure'],\r\n",
    "baseline='sym')\r\n",
    "plt.legend(['Food','Housing','Education'])\r\n",
    "plt.title(\"Stacked Area Chart showing the Expenses by Year\")\r\n",
    "plt.ylabel(\"Expenditure\")\r\n",
    "plt.xlabel(\"Year\")\r\n"
   ],
   "outputs": [
    {
     "output_type": "execute_result",
     "data": {
      "text/plain": [
       "Text(0.5, 0, 'Year')"
      ]
     },
     "metadata": {},
     "execution_count": 36
    },
    {
     "output_type": "display_data",
     "data": {
      "image/png": "[encoded data removed]",
      "text/plain": [
       "<Figure size 1080x648 with 1 Axes>"
      ]
     },
     "metadata": {
      "needs_background": "light"
     }
    }
   ],
   "metadata": {}
  },
  {
   "cell_type": "code",
   "execution_count": 44,
   "source": [
    "# Tree plots\r\n",
    "\r\n",
    "category_count = df_expn.groupby(['year','category'])['expenditure'].sum()\r\n",
    "category_count"
   ],
   "outputs": [
    {
     "output_type": "execute_result",
     "data": {
      "text/plain": [
       "year  category           \n",
       "1984  Alcoholic Beverages     275\n",
       "      Apparel                1319\n",
       "      Cash Contributions      706\n",
       "      Education               303\n",
       "      Entertainment          1055\n",
       "                             ... \n",
       "2008  Personal Care           616\n",
       "      Personal Insurance     5605\n",
       "      Reading                 116\n",
       "      Tobacco Products        317\n",
       "      Transportation         8604\n",
       "Name: expenditure, Length: 350, dtype: int64"
      ]
     },
     "metadata": {},
     "execution_count": 44
    }
   ],
   "metadata": {}
  },
  {
   "cell_type": "code",
   "execution_count": 46,
   "source": [
    "category_count"
   ],
   "outputs": [
    {
     "output_type": "execute_result",
     "data": {
      "text/plain": [
       "year  category           \n",
       "1984  Alcoholic Beverages     275\n",
       "      Apparel                1319\n",
       "      Cash Contributions      706\n",
       "      Education               303\n",
       "      Entertainment          1055\n",
       "                             ... \n",
       "2008  Personal Care           616\n",
       "      Personal Insurance     5605\n",
       "      Reading                 116\n",
       "      Tobacco Products        317\n",
       "      Transportation         8604\n",
       "Name: expenditure, Length: 350, dtype: int64"
      ]
     },
     "metadata": {},
     "execution_count": 46
    }
   ],
   "metadata": {}
  }
 ],
 "metadata": {
  "orig_nbformat": 4,
  "language_info": {
   "name": "python",
   "version": "3.8.8",
   "mimetype": "text/x-python",
   "codemirror_mode": {
    "name": "ipython",
    "version": 3
   },
   "pygments_lexer": "ipython3",
   "nbconvert_exporter": "python",
   "file_extension": ".py"
  },
  "kernelspec": {
   "name": "python3",
   "display_name": "Python 3.8.8 64-bit ('base': conda)"
  },
  "interpreter": {
   "hash": "eaa595ef62feebb7391c21f4631d0608c59ea8040a4240c26bcafde459863554"
  }
 },
 "nbformat": 4,
 "nbformat_minor": 2
}